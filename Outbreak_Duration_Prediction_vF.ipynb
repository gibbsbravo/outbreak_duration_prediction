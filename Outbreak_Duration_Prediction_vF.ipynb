{
 "cells": [
  {
   "cell_type": "markdown",
   "metadata": {},
   "source": [
    "# Load Libraries and Data"
   ]
  },
  {
   "cell_type": "code",
   "execution_count": 1,
   "metadata": {},
   "outputs": [],
   "source": [
    "#Import requisite libraries\n",
    "import pandas as pd\n",
    "import numpy as np\n",
    "import matplotlib.pyplot as plt\n",
    "%matplotlib inline "
   ]
  },
  {
   "cell_type": "code",
   "execution_count": 2,
   "metadata": {},
   "outputs": [],
   "source": [
    "#Read data from each individual spreadsheet and aggregate into one dataframe\n",
    "years = ['2016','2017','2018']\n",
    "\n",
    "df = pd.DataFrame([])\n",
    "\n",
    "for year in years: \n",
    "    tempdf = pd.read_csv(year+'_ob_report.csv')\n",
    "    df = pd.concat([df,tempdf], sort=True)\n",
    "\n",
    "df.reset_index(drop=True,inplace=True)"
   ]
  },
  {
   "cell_type": "code",
   "execution_count": 3,
   "metadata": {},
   "outputs": [
    {
     "name": "stdout",
     "output_type": "stream",
     "text": [
      "<class 'pandas.core.frame.DataFrame'>\n",
      "RangeIndex: 910 entries, 0 to 909\n",
      "Data columns (total 10 columns):\n",
      "Active                 910 non-null object\n",
      "Causative Agent        910 non-null object\n",
      "Date Declared Over     889 non-null object\n",
      "Date Outbreak Began    910 non-null object\n",
      "Etiological Agent2     130 non-null object\n",
      "Institution Address    910 non-null object\n",
      "Institution Name       910 non-null object\n",
      "Outbreak Setting       910 non-null object\n",
      "Type of Outbreak       910 non-null object\n",
      "Unnamed: 9             1 non-null object\n",
      "dtypes: object(10)\n",
      "memory usage: 71.2+ KB\n",
      "None\n"
     ]
    },
    {
     "data": {
      "text/html": [
       "<div>\n",
       "<style scoped>\n",
       "    .dataframe tbody tr th:only-of-type {\n",
       "        vertical-align: middle;\n",
       "    }\n",
       "\n",
       "    .dataframe tbody tr th {\n",
       "        vertical-align: top;\n",
       "    }\n",
       "\n",
       "    .dataframe thead th {\n",
       "        text-align: right;\n",
       "    }\n",
       "</style>\n",
       "<table border=\"1\" class=\"dataframe\">\n",
       "  <thead>\n",
       "    <tr style=\"text-align: right;\">\n",
       "      <th></th>\n",
       "      <th>Active</th>\n",
       "      <th>Causative Agent</th>\n",
       "      <th>Date Declared Over</th>\n",
       "      <th>Date Outbreak Began</th>\n",
       "      <th>Etiological Agent2</th>\n",
       "      <th>Institution Address</th>\n",
       "      <th>Institution Name</th>\n",
       "      <th>Outbreak Setting</th>\n",
       "      <th>Type of Outbreak</th>\n",
       "      <th>Unnamed: 9</th>\n",
       "    </tr>\n",
       "  </thead>\n",
       "  <tbody>\n",
       "    <tr>\n",
       "      <th>0</th>\n",
       "      <td>N</td>\n",
       "      <td>Influenza A (H3N2)</td>\n",
       "      <td>2017-01-20</td>\n",
       "      <td>2016-12-31</td>\n",
       "      <td>NaN</td>\n",
       "      <td>551 Conlins Rd</td>\n",
       "      <td>Extendicare Rouge Valley</td>\n",
       "      <td>LTCH</td>\n",
       "      <td>Respiratory</td>\n",
       "      <td>NaN</td>\n",
       "    </tr>\n",
       "    <tr>\n",
       "      <th>1</th>\n",
       "      <td>N</td>\n",
       "      <td>Norovirus-like</td>\n",
       "      <td>2017-01-04</td>\n",
       "      <td>2016-12-30</td>\n",
       "      <td>NaN</td>\n",
       "      <td>825 Coxwell Ave</td>\n",
       "      <td>Michael Garron Hospital - H6</td>\n",
       "      <td>Hospital-Acute Care</td>\n",
       "      <td>Enteric</td>\n",
       "      <td>NaN</td>\n",
       "    </tr>\n",
       "    <tr>\n",
       "      <th>2</th>\n",
       "      <td>N</td>\n",
       "      <td>Respiratory syncytial virus</td>\n",
       "      <td>2017-01-13</td>\n",
       "      <td>2016-12-30</td>\n",
       "      <td>NaN</td>\n",
       "      <td>2920 Lawrence Ave E</td>\n",
       "      <td>Bendale Acres - 3rd Fl</td>\n",
       "      <td>LTCH</td>\n",
       "      <td>Respiratory</td>\n",
       "      <td>NaN</td>\n",
       "    </tr>\n",
       "    <tr>\n",
       "      <th>3</th>\n",
       "      <td>N</td>\n",
       "      <td>Metapneumovirus</td>\n",
       "      <td>2017-01-20</td>\n",
       "      <td>2016-12-30</td>\n",
       "      <td>NaN</td>\n",
       "      <td>3555 Danforth Ave</td>\n",
       "      <td>Chester Village - 3rd Fl - Ruby &amp; 4th Fl - Eme...</td>\n",
       "      <td>LTCH</td>\n",
       "      <td>Respiratory</td>\n",
       "      <td>NaN</td>\n",
       "    </tr>\n",
       "    <tr>\n",
       "      <th>4</th>\n",
       "      <td>N</td>\n",
       "      <td>Influenza A (H3)</td>\n",
       "      <td>2017-01-20</td>\n",
       "      <td>2016-12-30</td>\n",
       "      <td>NaN</td>\n",
       "      <td>19 Rean Dr</td>\n",
       "      <td>Amica At Bayview Gardens</td>\n",
       "      <td>Retirement Home</td>\n",
       "      <td>Respiratory</td>\n",
       "      <td>NaN</td>\n",
       "    </tr>\n",
       "  </tbody>\n",
       "</table>\n",
       "</div>"
      ],
      "text/plain": [
       "  Active              Causative Agent Date Declared Over Date Outbreak Began  \\\n",
       "0      N           Influenza A (H3N2)         2017-01-20          2016-12-31   \n",
       "1      N               Norovirus-like         2017-01-04          2016-12-30   \n",
       "2      N  Respiratory syncytial virus         2017-01-13          2016-12-30   \n",
       "3      N              Metapneumovirus         2017-01-20          2016-12-30   \n",
       "4      N             Influenza A (H3)         2017-01-20          2016-12-30   \n",
       "\n",
       "  Etiological Agent2  Institution Address  \\\n",
       "0                NaN       551 Conlins Rd   \n",
       "1                NaN      825 Coxwell Ave   \n",
       "2                NaN  2920 Lawrence Ave E   \n",
       "3                NaN    3555 Danforth Ave   \n",
       "4                NaN           19 Rean Dr   \n",
       "\n",
       "                                    Institution Name     Outbreak Setting  \\\n",
       "0                           Extendicare Rouge Valley                 LTCH   \n",
       "1                       Michael Garron Hospital - H6  Hospital-Acute Care   \n",
       "2                             Bendale Acres - 3rd Fl                 LTCH   \n",
       "3  Chester Village - 3rd Fl - Ruby & 4th Fl - Eme...                 LTCH   \n",
       "4                           Amica At Bayview Gardens      Retirement Home   \n",
       "\n",
       "  Type of Outbreak Unnamed: 9  \n",
       "0      Respiratory        NaN  \n",
       "1          Enteric        NaN  \n",
       "2      Respiratory        NaN  \n",
       "3      Respiratory        NaN  \n",
       "4      Respiratory        NaN  "
      ]
     },
     "execution_count": 3,
     "metadata": {},
     "output_type": "execute_result"
    }
   ],
   "source": [
    "#Examine dataframe for missing values and datatype\n",
    "print(df.info())\n",
    "df.head()"
   ]
  },
  {
   "cell_type": "code",
   "execution_count": 4,
   "metadata": {},
   "outputs": [
    {
     "name": "stdout",
     "output_type": "stream",
     "text": [
      "<class 'pandas.core.frame.DataFrame'>\n",
      "RangeIndex: 910 entries, 0 to 909\n",
      "Data columns (total 11 columns):\n",
      "index                910 non-null int64\n",
      "accuracy             903 non-null object\n",
      "formatted_address    903 non-null object\n",
      "google_place_id      903 non-null object\n",
      "input_string         910 non-null object\n",
      "latitude             910 non-null float64\n",
      "longitude            910 non-null float64\n",
      "number_of_results    910 non-null int64\n",
      "postcode             910 non-null object\n",
      "status               910 non-null object\n",
      "type                 903 non-null object\n",
      "dtypes: float64(2), int64(2), object(7)\n",
      "memory usage: 78.3+ KB\n"
     ]
    }
   ],
   "source": [
    "#Read coordinates data to aggregate address information by postal code\n",
    "coordinates = pd.read_csv('coordinates.csv')\n",
    "coordinates.info()"
   ]
  },
  {
   "cell_type": "code",
   "execution_count": 5,
   "metadata": {},
   "outputs": [],
   "source": [
    "#Test to ensure existing df lines up with coordinates df then merge dataframes\n",
    "pc_test = [x[:10] for x in coordinates['input_string']]\n",
    "df_test = [x[:10] for x in df['Institution Address']]\n",
    "pc_test == df_test\n",
    "\n",
    "df = df.join(coordinates[['latitude','longitude','postcode']])"
   ]
  },
  {
   "cell_type": "markdown",
   "metadata": {},
   "source": [
    "# Preprocessing"
   ]
  },
  {
   "cell_type": "code",
   "execution_count": 6,
   "metadata": {},
   "outputs": [],
   "source": [
    "#Can drop cases which are still active as cannot be used in prediction and then drop the 'Active' column\n",
    "df = df[df['Active']=='N']\n",
    "df.drop('Active',axis=1,inplace=True)\n",
    "\n",
    "#Drop empty column which was added\n",
    "df.drop('Unnamed: 9',axis=1,inplace=True)\n",
    "\n",
    "#Fill empty Etiological Agent values with unknown\n",
    "df['Etiological Agent2'].fillna('Unknown',inplace=True)\n",
    "\n",
    "#Convert \"date declared over\" and \"date began\" to outbreak duration feature which will be the target then drop both\n",
    "df['ob_begin'] = pd.to_datetime(df['Date Outbreak Began'])\n",
    "df['ob_end'] = pd.to_datetime(df['Date Declared Over'])\n",
    "\n",
    "df['ob_duration'] = df['ob_end'] - df['ob_begin']\n",
    "df['ob_duration'] = df['ob_duration'].dt.days\n",
    "\n",
    "#Add features for beginning of outbreak \n",
    "df['year'] = df['ob_begin'].dt.year\n",
    "df['month'] = df['ob_begin'].dt.month\n",
    "df['week'] = df['ob_begin'].dt.week\n",
    "\n",
    "#Drop features used in engineering\n",
    "df.drop(['Date Outbreak Began','Date Declared Over','ob_begin','ob_end'],axis=1,inplace=True)\n",
    "\n",
    "#Reset index\n",
    "df.reset_index(drop=True,inplace=True)"
   ]
  },
  {
   "cell_type": "code",
   "execution_count": 7,
   "metadata": {},
   "outputs": [
    {
     "data": {
      "text/html": [
       "<div>\n",
       "<style scoped>\n",
       "    .dataframe tbody tr th:only-of-type {\n",
       "        vertical-align: middle;\n",
       "    }\n",
       "\n",
       "    .dataframe tbody tr th {\n",
       "        vertical-align: top;\n",
       "    }\n",
       "\n",
       "    .dataframe thead th {\n",
       "        text-align: right;\n",
       "    }\n",
       "</style>\n",
       "<table border=\"1\" class=\"dataframe\">\n",
       "  <thead>\n",
       "    <tr style=\"text-align: right;\">\n",
       "      <th></th>\n",
       "      <th>causative_agent</th>\n",
       "      <th>etiological_agent</th>\n",
       "      <th>address</th>\n",
       "      <th>name</th>\n",
       "      <th>inst_type</th>\n",
       "      <th>outbreak_type</th>\n",
       "      <th>latitude</th>\n",
       "      <th>longitude</th>\n",
       "      <th>postcode</th>\n",
       "      <th>ob_duration</th>\n",
       "      <th>year</th>\n",
       "      <th>month</th>\n",
       "      <th>week</th>\n",
       "    </tr>\n",
       "  </thead>\n",
       "  <tbody>\n",
       "    <tr>\n",
       "      <th>0</th>\n",
       "      <td>Influenza A (H3N2)</td>\n",
       "      <td>Unknown</td>\n",
       "      <td>551 Conlins Rd</td>\n",
       "      <td>Extendicare Rouge Valley</td>\n",
       "      <td>LTCH</td>\n",
       "      <td>Respiratory</td>\n",
       "      <td>43.803313</td>\n",
       "      <td>-79.188674</td>\n",
       "      <td>M1B 5S1</td>\n",
       "      <td>20</td>\n",
       "      <td>2016</td>\n",
       "      <td>12</td>\n",
       "      <td>52</td>\n",
       "    </tr>\n",
       "    <tr>\n",
       "      <th>1</th>\n",
       "      <td>Norovirus-like</td>\n",
       "      <td>Unknown</td>\n",
       "      <td>825 Coxwell Ave</td>\n",
       "      <td>Michael Garron Hospital - H6</td>\n",
       "      <td>Hospital-Acute Care</td>\n",
       "      <td>Enteric</td>\n",
       "      <td>43.689977</td>\n",
       "      <td>-79.324942</td>\n",
       "      <td>M4C 3E7</td>\n",
       "      <td>5</td>\n",
       "      <td>2016</td>\n",
       "      <td>12</td>\n",
       "      <td>52</td>\n",
       "    </tr>\n",
       "    <tr>\n",
       "      <th>2</th>\n",
       "      <td>Respiratory syncytial virus</td>\n",
       "      <td>Unknown</td>\n",
       "      <td>2920 Lawrence Ave E</td>\n",
       "      <td>Bendale Acres - 3rd Fl</td>\n",
       "      <td>LTCH</td>\n",
       "      <td>Respiratory</td>\n",
       "      <td>43.754929</td>\n",
       "      <td>-79.251836</td>\n",
       "      <td>M1P 2T8</td>\n",
       "      <td>14</td>\n",
       "      <td>2016</td>\n",
       "      <td>12</td>\n",
       "      <td>52</td>\n",
       "    </tr>\n",
       "    <tr>\n",
       "      <th>3</th>\n",
       "      <td>Metapneumovirus</td>\n",
       "      <td>Unknown</td>\n",
       "      <td>3555 Danforth Ave</td>\n",
       "      <td>Chester Village - 3rd Fl - Ruby &amp; 4th Fl - Eme...</td>\n",
       "      <td>LTCH</td>\n",
       "      <td>Respiratory</td>\n",
       "      <td>43.693640</td>\n",
       "      <td>-79.274845</td>\n",
       "      <td>M1L 1E3</td>\n",
       "      <td>21</td>\n",
       "      <td>2016</td>\n",
       "      <td>12</td>\n",
       "      <td>52</td>\n",
       "    </tr>\n",
       "    <tr>\n",
       "      <th>4</th>\n",
       "      <td>Influenza A (H3)</td>\n",
       "      <td>Unknown</td>\n",
       "      <td>19 Rean Dr</td>\n",
       "      <td>Amica At Bayview Gardens</td>\n",
       "      <td>Retirement Home</td>\n",
       "      <td>Respiratory</td>\n",
       "      <td>43.767200</td>\n",
       "      <td>-79.382412</td>\n",
       "      <td>M2K</td>\n",
       "      <td>21</td>\n",
       "      <td>2016</td>\n",
       "      <td>12</td>\n",
       "      <td>52</td>\n",
       "    </tr>\n",
       "  </tbody>\n",
       "</table>\n",
       "</div>"
      ],
      "text/plain": [
       "               causative_agent etiological_agent              address  \\\n",
       "0           Influenza A (H3N2)           Unknown       551 Conlins Rd   \n",
       "1               Norovirus-like           Unknown      825 Coxwell Ave   \n",
       "2  Respiratory syncytial virus           Unknown  2920 Lawrence Ave E   \n",
       "3              Metapneumovirus           Unknown    3555 Danforth Ave   \n",
       "4             Influenza A (H3)           Unknown           19 Rean Dr   \n",
       "\n",
       "                                                name            inst_type  \\\n",
       "0                           Extendicare Rouge Valley                 LTCH   \n",
       "1                       Michael Garron Hospital - H6  Hospital-Acute Care   \n",
       "2                             Bendale Acres - 3rd Fl                 LTCH   \n",
       "3  Chester Village - 3rd Fl - Ruby & 4th Fl - Eme...                 LTCH   \n",
       "4                           Amica At Bayview Gardens      Retirement Home   \n",
       "\n",
       "  outbreak_type   latitude  longitude postcode  ob_duration  year  month  week  \n",
       "0   Respiratory  43.803313 -79.188674  M1B 5S1           20  2016     12    52  \n",
       "1       Enteric  43.689977 -79.324942  M4C 3E7            5  2016     12    52  \n",
       "2   Respiratory  43.754929 -79.251836  M1P 2T8           14  2016     12    52  \n",
       "3   Respiratory  43.693640 -79.274845  M1L 1E3           21  2016     12    52  \n",
       "4   Respiratory  43.767200 -79.382412      M2K           21  2016     12    52  "
      ]
     },
     "execution_count": 7,
     "metadata": {},
     "output_type": "execute_result"
    }
   ],
   "source": [
    "#Rename columns for improved readability and consistency\n",
    "df.rename(columns={'Causative Agent': 'causative_agent','Etiological Agent2':'etiological_agent','Institution Address':'address',\n",
    "                  'Institution Name':'name','Outbreak Setting':'inst_type','Type of Outbreak':'outbreak_type'}, inplace=True)\n",
    "df.head()"
   ]
  },
  {
   "cell_type": "code",
   "execution_count": 8,
   "metadata": {},
   "outputs": [],
   "source": [
    "#Drop two rows which appear to be incorrectly entered or significant outliers as have very high durations\n",
    "df.drop([176,180],inplace=True)\n",
    "\n",
    "#Currently doing PCA instead of manually aggregating as improves the performance\n",
    "\"\"\"#Aggregate causative agents which have only occurred once\n",
    "df.replace({'causative_agent' : { 'Rhinovirus, Coronavirus': 'Other', 'Clostridium difficile (Toxin B)': 'Other', \n",
    "                                 'Influenza A (H3), Parainfluenza type 1':'Other' , ' Respiratory syncytial virus':'Other', \n",
    "                                 'Parainfluenza Type 1':'Other', 'Shigella flexneri (Group B)':'Other', 'Adenovirus':'Other'}},inplace=True)\"\"\"\n",
    "\n",
    "#Add feature for season\n",
    "df['season'] = pd.cut(df['month'], 4, labels=['Winter','Spring','Summer','Fall'])\n",
    "\n",
    "#Add identifier to etiological agent to ensure it is seperable if one-hot encoding\n",
    "df['etiological_agent'] = df['etiological_agent']+'_ea'\n",
    "\n",
    "#Consider only the first 3 characters of postal code for higher level aggregation then drop address feature\n",
    "df['postcode'] = [x[:3] for x in df['postcode']]\n",
    "df.drop(['address'],axis=1,inplace=True)"
   ]
  },
  {
   "cell_type": "code",
   "execution_count": 9,
   "metadata": {},
   "outputs": [],
   "source": [
    "#Will later use PCA on specified columns and therefore need to create mini dataframe of column to new feature mappings\n",
    "\n",
    "#New column groupings for PCA\n",
    "PCA_features = ['causative_agent','postcode']\n",
    "unique_values = []\n",
    "\n",
    "for i in PCA_features:\n",
    "    unique_values.append([i,df[i].unique()])\n",
    "\n",
    "unique_values = pd.DataFrame(unique_values,columns=['feature','values'])"
   ]
  },
  {
   "cell_type": "markdown",
   "metadata": {},
   "source": [
    "##  Other Potential Features to Engineer: \n",
    "- average income for that geography to proxy the likely resources of the facility\n",
    "- name of institution parent to determine if there is a difference depending on operator\n",
    "- aggregate etiological agent in more meaningful way"
   ]
  },
  {
   "cell_type": "code",
   "execution_count": 10,
   "metadata": {},
   "outputs": [],
   "source": [
    "#Drop name in interim until feature is properly engineered\n",
    "df.drop(['name'],axis=1,inplace=True)\n",
    "\n",
    "#Drop longitude and latitude until being used\n",
    "df.drop(['longitude','latitude'],axis=1,inplace=True)\n",
    "\n",
    "#Drop etiological agent until it is properly engineered\n",
    "df.drop(['etiological_agent'],axis=1,inplace=True)\n",
    "\n",
    "#Convert categorical features to one-hot encoding (line 1 is PCA features, line 2 is normal one-hot features)\n",
    "cat_feats = ['causative_agent', 'postcode', \n",
    "             'inst_type', 'outbreak_type', 'season']\n",
    "\n",
    "for i in cat_feats:\n",
    "    dummy_CODE = df[i]\n",
    "    dummy_CODE = pd.get_dummies(dummy_CODE)\n",
    "    df = df.join(dummy_CODE,how='outer')\n",
    "    df.drop(i,axis=1,inplace=True)"
   ]
  },
  {
   "cell_type": "code",
   "execution_count": 11,
   "metadata": {},
   "outputs": [
    {
     "data": {
      "image/png": "[encoded data removed]",
      "text/plain": [
       "<Figure size 864x288 with 1 Axes>"
      ]
     },
     "metadata": {},
     "output_type": "display_data"
    }
   ],
   "source": [
    "#View distribution of the duration by number of days\n",
    "chart = pd.cut(df['ob_duration'],20)\n",
    "chart.value_counts(sort=False).plot.bar(figsize=(12,4),color=\"g\");"
   ]
  },
  {
   "cell_type": "markdown",
   "metadata": {},
   "source": [
    "# Predictive Modelling"
   ]
  },
  {
   "cell_type": "code",
   "execution_count": 12,
   "metadata": {},
   "outputs": [],
   "source": [
    "#11.5 days repreents a reasonable proxy for durations which are severe\n",
    "#Convert to classification problem in finding severe cases\n",
    "cutoff_days = 11.5\n",
    "\n",
    "df['ob_duration'] = np.where(df['ob_duration']>cutoff_days,1,0)"
   ]
  },
  {
   "cell_type": "code",
   "execution_count": 13,
   "metadata": {},
   "outputs": [],
   "source": [
    "from sklearn.model_selection import train_test_split\n",
    "\n",
    "#Split data into training and test by desired proportion\n",
    "y = df['ob_duration'].copy()\n",
    "X = df.loc[:,df.columns !='ob_duration'].copy()\n",
    "X_train, X_test, y_train, y_test = train_test_split(X, y,test_size=0.20, random_state = 7)"
   ]
  },
  {
   "cell_type": "code",
   "execution_count": 14,
   "metadata": {},
   "outputs": [],
   "source": [
    "from sklearn.preprocessing import StandardScaler\n",
    "pd.options.mode.chained_assignment = None  # default='warn'\n",
    "\n",
    "#Standardize features which require it in 'std_cols'\n",
    "sc = StandardScaler()\n",
    "\n",
    "std_cols = ['week','year','month']\n",
    "\n",
    "std_train_df = X_train.loc[:,std_cols]\n",
    "std_test_df = X_test.loc[:,std_cols]\n",
    "\n",
    "#Fit only on train set to avoid data leakage\n",
    "sc.fit(std_train_df)\n",
    "\n",
    "#Transform both the train and test sets\n",
    "X_train.loc[:,std_cols] = sc.transform(std_train_df)\n",
    "X_test.loc[:,std_cols] = sc.transform(std_test_df)"
   ]
  },
  {
   "cell_type": "code",
   "execution_count": 15,
   "metadata": {},
   "outputs": [
    {
     "name": "stdout",
     "output_type": "stream",
     "text": [
      "[0.16920783 0.14615255] Total: 0.32\n",
      "[0.07055026 0.05431549] Total: 0.12\n"
     ]
    }
   ],
   "source": [
    "from sklearn.decomposition import PCA\n",
    "\n",
    "#PCA to reduce categorical features\n",
    "PCA_components = [2,2]\n",
    "\n",
    "for i in range(len(unique_values)):\n",
    "    feature = unique_values['feature'].loc[i]\n",
    "    cat_cols = unique_values['values'].loc[i]\n",
    "\n",
    "    train_cat_feat = X_train[cat_cols]\n",
    "    test_cat_feat = X_test[cat_cols]\n",
    "\n",
    "    pca = PCA(n_components=PCA_components[i])\n",
    "\n",
    "    pca.fit(train_cat_feat)\n",
    "    print(pca.explained_variance_ratio_, 'Total:', pca.explained_variance_ratio_.sum().round(2))\n",
    "    train_PCA = pca.transform(train_cat_feat)\n",
    "    test_PCA = pca.transform(test_cat_feat)\n",
    "\n",
    "    #Add features with new PC components and drop one-hot features\n",
    "    X_train[[feature+'_PC'+str(p+1) for p in range(PCA_components[i])]] = pd.DataFrame(\n",
    "        data = train_PCA, columns = [feature+'_PC'+str(p+1) for p in range(PCA_components[i])], index = X_train.index)\n",
    "    \n",
    "    X_test[[feature+'_PC'+str(p+1) for p in range(PCA_components[i])]] = pd.DataFrame(\n",
    "        data = test_PCA, columns = [feature+'_PC'+str(p+1) for p in range(PCA_components[i])], index = X_test.index)\n",
    "        \n",
    "    X_train.drop(cat_cols,axis=1,inplace=True)\n",
    "    X_test.drop(cat_cols,axis=1,inplace=True)"
   ]
  },
  {
   "cell_type": "code",
   "execution_count": 16,
   "metadata": {},
   "outputs": [],
   "source": [
    "pd.options.mode.chained_assignment = None  # default='warn'\n",
    "\n",
    "#Drop unneccesary columns after iteratively checking impact on performance\n",
    "drop_cols = ['week','year','month']\n",
    "\n",
    "X_train.drop(drop_cols,axis=1,inplace=True)\n",
    "X_test.drop(drop_cols,axis=1,inplace=True)"
   ]
  },
  {
   "cell_type": "code",
   "execution_count": 17,
   "metadata": {},
   "outputs": [
    {
     "data": {
      "text/html": [
       "<div>\n",
       "<style scoped>\n",
       "    .dataframe tbody tr th:only-of-type {\n",
       "        vertical-align: middle;\n",
       "    }\n",
       "\n",
       "    .dataframe tbody tr th {\n",
       "        vertical-align: top;\n",
       "    }\n",
       "\n",
       "    .dataframe thead th {\n",
       "        text-align: right;\n",
       "    }\n",
       "</style>\n",
       "<table border=\"1\" class=\"dataframe\">\n",
       "  <thead>\n",
       "    <tr style=\"text-align: right;\">\n",
       "      <th></th>\n",
       "      <th>importance</th>\n",
       "    </tr>\n",
       "  </thead>\n",
       "  <tbody>\n",
       "    <tr>\n",
       "      <th>postcode_PC2</th>\n",
       "      <td>0.239476</td>\n",
       "    </tr>\n",
       "    <tr>\n",
       "      <th>postcode_PC1</th>\n",
       "      <td>0.235169</td>\n",
       "    </tr>\n",
       "    <tr>\n",
       "      <th>causative_agent_PC2</th>\n",
       "      <td>0.122056</td>\n",
       "    </tr>\n",
       "    <tr>\n",
       "      <th>causative_agent_PC1</th>\n",
       "      <td>0.114750</td>\n",
       "    </tr>\n",
       "    <tr>\n",
       "      <th>LTCH</th>\n",
       "      <td>0.054571</td>\n",
       "    </tr>\n",
       "    <tr>\n",
       "      <th>Hospital-Acute Care</th>\n",
       "      <td>0.044173</td>\n",
       "    </tr>\n",
       "    <tr>\n",
       "      <th>Winter</th>\n",
       "      <td>0.032173</td>\n",
       "    </tr>\n",
       "    <tr>\n",
       "      <th>Hospital-Chronic Care</th>\n",
       "      <td>0.030011</td>\n",
       "    </tr>\n",
       "    <tr>\n",
       "      <th>Retirement Home</th>\n",
       "      <td>0.027813</td>\n",
       "    </tr>\n",
       "    <tr>\n",
       "      <th>Fall</th>\n",
       "      <td>0.027152</td>\n",
       "    </tr>\n",
       "    <tr>\n",
       "      <th>Spring</th>\n",
       "      <td>0.025721</td>\n",
       "    </tr>\n",
       "    <tr>\n",
       "      <th>Summer</th>\n",
       "      <td>0.015395</td>\n",
       "    </tr>\n",
       "    <tr>\n",
       "      <th>Respiratory</th>\n",
       "      <td>0.013004</td>\n",
       "    </tr>\n",
       "    <tr>\n",
       "      <th>Enteric</th>\n",
       "      <td>0.012726</td>\n",
       "    </tr>\n",
       "    <tr>\n",
       "      <th>Hospital-Psychiatric</th>\n",
       "      <td>0.004779</td>\n",
       "    </tr>\n",
       "    <tr>\n",
       "      <th>Shelter</th>\n",
       "      <td>0.001032</td>\n",
       "    </tr>\n",
       "  </tbody>\n",
       "</table>\n",
       "</div>"
      ],
      "text/plain": [
       "                       importance\n",
       "postcode_PC2             0.239476\n",
       "postcode_PC1             0.235169\n",
       "causative_agent_PC2      0.122056\n",
       "causative_agent_PC1      0.114750\n",
       "LTCH                     0.054571\n",
       "Hospital-Acute Care      0.044173\n",
       "Winter                   0.032173\n",
       "Hospital-Chronic Care    0.030011\n",
       "Retirement Home          0.027813\n",
       "Fall                     0.027152\n",
       "Spring                   0.025721\n",
       "Summer                   0.015395\n",
       "Respiratory              0.013004\n",
       "Enteric                  0.012726\n",
       "Hospital-Psychiatric     0.004779\n",
       "Shelter                  0.001032"
      ]
     },
     "execution_count": 17,
     "metadata": {},
     "output_type": "execute_result"
    }
   ],
   "source": [
    "from sklearn.ensemble import RandomForestClassifier\n",
    "\n",
    "rf_clf = RandomForestClassifier(\n",
    "        n_estimators = 100,\n",
    "        max_features = 'sqrt',\n",
    "        n_jobs = 4,\n",
    "        random_state = 7)\n",
    "    \n",
    "rf_clf.fit(X_train, y_train)\n",
    "\n",
    "#Check the variable importance\n",
    "importance = rf_clf.feature_importances_\n",
    "importance = pd.DataFrame(importance, \n",
    "                          columns=[\"importance\"],\n",
    "                          index = X_train.columns\n",
    "                         )\n",
    "importance.sort_values(by='importance',ascending=False,inplace=True)\n",
    "\n",
    "importance[:]"
   ]
  },
  {
   "cell_type": "code",
   "execution_count": 18,
   "metadata": {
    "scrolled": true
   },
   "outputs": [
    {
     "data": {
      "text/plain": [
       "1    0.52809\n",
       "0    0.47191\n",
       "Name: ob_duration, dtype: float64"
      ]
     },
     "execution_count": 18,
     "metadata": {},
     "output_type": "execute_result"
    }
   ],
   "source": [
    "#Majority class results / class imbalance\n",
    "y_test.value_counts()/len(y_test)"
   ]
  },
  {
   "cell_type": "code",
   "execution_count": 19,
   "metadata": {},
   "outputs": [
    {
     "name": "stdout",
     "output_type": "stream",
     "text": [
      "AUC using XGBoost is 0.6735\n",
      "Accuracy of XGBoost classifier on training set: 0.780\n",
      "Accuracy of XGBoost classifier on test set: 0.652\n"
     ]
    }
   ],
   "source": [
    "import xgboost as xgb\n",
    "import warnings\n",
    "from sklearn.metrics import roc_auc_score\n",
    "\n",
    "warnings.filterwarnings(\"ignore\", category=DeprecationWarning) \n",
    "\n",
    "gbm = xgb.XGBClassifier(max_depth=4, n_estimators=150, learning_rate=0.05).fit(X_train, y_train.ravel())\n",
    "gbm_predictedValue = gbm.predict_proba(X_test)\n",
    "\n",
    "y_pred = gbm_predictedValue[:,1]\n",
    "gbm_train_pred = gbm.predict(X_train)\n",
    "gbm_test_pred = gbm.predict(X_test)\n",
    "\n",
    "print('AUC using XGBoost is {:.4f}'.format(roc_auc_score(y_test, y_pred)))\n",
    "print('Accuracy of XGBoost classifier on training set: {:.3f}'\n",
    "     .format(gbm.score(X_train, y_train)))\n",
    "print('Accuracy of XGBoost classifier on test set: {:.3f}'\n",
    "     .format(gbm.score(X_test, y_test)))"
   ]
  },
  {
   "cell_type": "code",
   "execution_count": 20,
   "metadata": {},
   "outputs": [],
   "source": [
    "from sklearn.metrics import accuracy_score, f1_score, precision_score, recall_score\n",
    "\n",
    "def model_results(model_name, model_predictions, y_test):\n",
    "    print(model_name,'Model Evaluation')\n",
    "    \n",
    "    print('Accuracy: {:.3f}'.format(accuracy_score(y_test, model_predictions)))\n",
    "    print('Precision: {:.3f}'.format(precision_score(y_test, model_predictions)))\n",
    "    print('Recall: {:.3f}'.format(recall_score(y_test, model_predictions)))\n",
    "    print('F1: {:.3f}'.format(f1_score(y_test, model_predictions)))\n",
    "    print()\n",
    "\n",
    "    print('Confusion Matrix:')\n",
    "    print(pd.crosstab(y_test, model_predictions, rownames=['True'], colnames=['Predicted'], margins=True))"
   ]
  },
  {
   "cell_type": "code",
   "execution_count": 21,
   "metadata": {},
   "outputs": [
    {
     "name": "stdout",
     "output_type": "stream",
     "text": [
      "XGBoost Model Evaluation\n",
      "Accuracy: 0.652\n",
      "Precision: 0.660\n",
      "Recall: 0.702\n",
      "F1: 0.680\n",
      "\n",
      "Confusion Matrix:\n",
      "Predicted   0    1  All\n",
      "True                   \n",
      "0          50   34   84\n",
      "1          28   66   94\n",
      "All        78  100  178\n"
     ]
    }
   ],
   "source": [
    "# Examine XGBoost results\n",
    "model_results('XGBoost', gbm_test_pred, y_test)"
   ]
  },
  {
   "cell_type": "code",
   "execution_count": 22,
   "metadata": {},
   "outputs": [
    {
     "name": "stdout",
     "output_type": "stream",
     "text": [
      "Logistic Regression Outputs:\n",
      "Best Parameters: {'C': 10}\n",
      "\n",
      "AUC using Logistic Regression is 0.6590\n",
      "Accuracy of Logistic Regression classifier on training set: 0.677\n",
      "Accuracy of Logistic Regression classifier on test set: 0.635\n"
     ]
    }
   ],
   "source": [
    "from sklearn.linear_model import LogisticRegression\n",
    "from sklearn.model_selection import GridSearchCV\n",
    "from sklearn.model_selection import cross_val_score\n",
    "\n",
    "print('Logistic Regression Outputs:')\n",
    "parameters = {'C':[0.01,0.1,1,10,100]}\n",
    "\n",
    "clf = GridSearchCV(LogisticRegression(C=1), parameters).fit(X_train,y_train.values.ravel())\n",
    "print (\"Best Parameters:\", clf.best_params_)\n",
    "\n",
    "C = clf.best_params_['C']\n",
    "\n",
    "print()\n",
    "\n",
    "logr_clf = LogisticRegression(C=C).fit(X_train, y_train)\n",
    "logr_predictedValue = logr_clf.predict_proba(X_test)\n",
    "\n",
    "y_pred = logr_predictedValue[:,1]\n",
    "logr_train_pred = logr_clf.predict(X_train)\n",
    "logr_test_pred = logr_clf.predict(X_test)\n",
    "\n",
    "print('AUC using Logistic Regression is {:.4f}'.format(roc_auc_score(y_test, y_pred)))\n",
    "print('Accuracy of Logistic Regression classifier on training set: {:.3f}'\n",
    "     .format(logr_clf.score(X_train, y_train)))\n",
    "print('Accuracy of Logistic Regression classifier on test set: {:.3f}'\n",
    "     .format(logr_clf.score(X_test, y_test)))"
   ]
  },
  {
   "cell_type": "code",
   "execution_count": 23,
   "metadata": {},
   "outputs": [
    {
     "name": "stdout",
     "output_type": "stream",
     "text": [
      "Logistic Regression Model Evaluation\n",
      "Accuracy: 0.635\n",
      "Precision: 0.622\n",
      "Recall: 0.787\n",
      "F1: 0.695\n",
      "\n",
      "Confusion Matrix:\n",
      "Predicted   0    1  All\n",
      "True                   \n",
      "0          39   45   84\n",
      "1          20   74   94\n",
      "All        59  119  178\n"
     ]
    }
   ],
   "source": [
    "#Examine Logistic Regression results\n",
    "model_results('Logistic Regression', logr_test_pred, y_test)"
   ]
  },
  {
   "cell_type": "code",
   "execution_count": null,
   "metadata": {},
   "outputs": [],
   "source": []
  }
 ],
 "metadata": {
  "kernelspec": {
   "display_name": "Python 3",
   "language": "python",
   "name": "python3"
  },
  "language_info": {
   "codemirror_mode": {
    "name": "ipython",
    "version": 3
   },
   "file_extension": ".py",
   "mimetype": "text/x-python",
   "name": "python",
   "nbconvert_exporter": "python",
   "pygments_lexer": "ipython3",
   "version": "3.6.5"
  }
 },
 "nbformat": 4,
 "nbformat_minor": 2
}
